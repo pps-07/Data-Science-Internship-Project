{
 "cells": [
  {
   "cell_type": "markdown",
   "id": "ff988e06",
   "metadata": {},
   "source": [
    "# Importing the required libraries"
   ]
  },
  {
   "cell_type": "code",
   "execution_count": 1,
   "id": "d5a28af8",
   "metadata": {},
   "outputs": [],
   "source": [
    "import pandas as pd\n",
    "from sklearn.model_selection import GridSearchCV\n",
    "from sklearn.metrics import mean_squared_error, mean_absolute_error, r2_score\n",
    "from sklearn.preprocessing import StandardScaler"
   ]
  },
  {
   "cell_type": "markdown",
   "id": "1c80089e",
   "metadata": {},
   "source": [
    "## Reading the dataset"
   ]
  },
  {
   "cell_type": "code",
   "execution_count": 57,
   "id": "ca53df9c",
   "metadata": {},
   "outputs": [
    {
     "data": {
      "text/html": [
       "<div>\n",
       "<style scoped>\n",
       "    .dataframe tbody tr th:only-of-type {\n",
       "        vertical-align: middle;\n",
       "    }\n",
       "\n",
       "    .dataframe tbody tr th {\n",
       "        vertical-align: top;\n",
       "    }\n",
       "\n",
       "    .dataframe thead th {\n",
       "        text-align: right;\n",
       "    }\n",
       "</style>\n",
       "<table border=\"1\" class=\"dataframe\">\n",
       "  <thead>\n",
       "    <tr style=\"text-align: right;\">\n",
       "      <th></th>\n",
       "      <th>Open</th>\n",
       "      <th>High</th>\n",
       "      <th>Low</th>\n",
       "      <th>Close</th>\n",
       "      <th>Adj Close</th>\n",
       "      <th>Volume</th>\n",
       "    </tr>\n",
       "    <tr>\n",
       "      <th>Date</th>\n",
       "      <th></th>\n",
       "      <th></th>\n",
       "      <th></th>\n",
       "      <th></th>\n",
       "      <th></th>\n",
       "      <th></th>\n",
       "    </tr>\n",
       "  </thead>\n",
       "  <tbody>\n",
       "    <tr>\n",
       "      <th>1988-01-04</th>\n",
       "      <td>1952.589966</td>\n",
       "      <td>2030.010010</td>\n",
       "      <td>1950.760010</td>\n",
       "      <td>2015.250000</td>\n",
       "      <td>2015.250000</td>\n",
       "      <td>20880000</td>\n",
       "    </tr>\n",
       "    <tr>\n",
       "      <th>1988-01-05</th>\n",
       "      <td>2056.370117</td>\n",
       "      <td>2075.270020</td>\n",
       "      <td>2021.390015</td>\n",
       "      <td>2031.500000</td>\n",
       "      <td>2031.500000</td>\n",
       "      <td>27200000</td>\n",
       "    </tr>\n",
       "    <tr>\n",
       "      <th>1988-01-06</th>\n",
       "      <td>2036.469971</td>\n",
       "      <td>2058.189941</td>\n",
       "      <td>2012.770020</td>\n",
       "      <td>2037.800049</td>\n",
       "      <td>2037.800049</td>\n",
       "      <td>18800000</td>\n",
       "    </tr>\n",
       "    <tr>\n",
       "      <th>1988-01-07</th>\n",
       "      <td>2019.890015</td>\n",
       "      <td>2061.510010</td>\n",
       "      <td>2004.640015</td>\n",
       "      <td>2051.889893</td>\n",
       "      <td>2051.889893</td>\n",
       "      <td>21370000</td>\n",
       "    </tr>\n",
       "    <tr>\n",
       "      <th>1988-01-08</th>\n",
       "      <td>2046.579956</td>\n",
       "      <td>2058.689941</td>\n",
       "      <td>1898.040039</td>\n",
       "      <td>1911.310059</td>\n",
       "      <td>1911.310059</td>\n",
       "      <td>27440000</td>\n",
       "    </tr>\n",
       "  </tbody>\n",
       "</table>\n",
       "</div>"
      ],
      "text/plain": [
       "                   Open         High          Low        Close    Adj Close  \\\n",
       "Date                                                                          \n",
       "1988-01-04  1952.589966  2030.010010  1950.760010  2015.250000  2015.250000   \n",
       "1988-01-05  2056.370117  2075.270020  2021.390015  2031.500000  2031.500000   \n",
       "1988-01-06  2036.469971  2058.189941  2012.770020  2037.800049  2037.800049   \n",
       "1988-01-07  2019.890015  2061.510010  2004.640015  2051.889893  2051.889893   \n",
       "1988-01-08  2046.579956  2058.689941  1898.040039  1911.310059  1911.310059   \n",
       "\n",
       "              Volume  \n",
       "Date                  \n",
       "1988-01-04  20880000  \n",
       "1988-01-05  27200000  \n",
       "1988-01-06  18800000  \n",
       "1988-01-07  21370000  \n",
       "1988-01-08  27440000  "
      ]
     },
     "execution_count": 57,
     "metadata": {},
     "output_type": "execute_result"
    }
   ],
   "source": [
    "data=pd.read_csv(\"Stocks_Dataset.csv\", index_col='Date')\n",
    "data.head()"
   ]
  },
  {
   "cell_type": "code",
   "execution_count": 58,
   "id": "3ea489da",
   "metadata": {},
   "outputs": [
    {
     "data": {
      "text/html": [
       "<div>\n",
       "<style scoped>\n",
       "    .dataframe tbody tr th:only-of-type {\n",
       "        vertical-align: middle;\n",
       "    }\n",
       "\n",
       "    .dataframe tbody tr th {\n",
       "        vertical-align: top;\n",
       "    }\n",
       "\n",
       "    .dataframe thead th {\n",
       "        text-align: right;\n",
       "    }\n",
       "</style>\n",
       "<table border=\"1\" class=\"dataframe\">\n",
       "  <thead>\n",
       "    <tr style=\"text-align: right;\">\n",
       "      <th></th>\n",
       "      <th>Open</th>\n",
       "      <th>High</th>\n",
       "      <th>Low</th>\n",
       "      <th>Close</th>\n",
       "      <th>Adj Close</th>\n",
       "      <th>Volume</th>\n",
       "    </tr>\n",
       "    <tr>\n",
       "      <th>Date</th>\n",
       "      <th></th>\n",
       "      <th></th>\n",
       "      <th></th>\n",
       "      <th></th>\n",
       "      <th></th>\n",
       "      <th></th>\n",
       "    </tr>\n",
       "  </thead>\n",
       "  <tbody>\n",
       "    <tr>\n",
       "      <th>2016-12-23</th>\n",
       "      <td>19908.609375</td>\n",
       "      <td>19934.150391</td>\n",
       "      <td>19899.060547</td>\n",
       "      <td>19933.810547</td>\n",
       "      <td>19933.810547</td>\n",
       "      <td>158260000</td>\n",
       "    </tr>\n",
       "    <tr>\n",
       "      <th>2016-12-27</th>\n",
       "      <td>19943.460938</td>\n",
       "      <td>19980.240234</td>\n",
       "      <td>19939.800781</td>\n",
       "      <td>19945.039063</td>\n",
       "      <td>19945.039063</td>\n",
       "      <td>158540000</td>\n",
       "    </tr>\n",
       "    <tr>\n",
       "      <th>2016-12-28</th>\n",
       "      <td>19964.310547</td>\n",
       "      <td>19981.109375</td>\n",
       "      <td>19827.310547</td>\n",
       "      <td>19833.679688</td>\n",
       "      <td>19833.679688</td>\n",
       "      <td>188350000</td>\n",
       "    </tr>\n",
       "    <tr>\n",
       "      <th>2016-12-29</th>\n",
       "      <td>19835.460938</td>\n",
       "      <td>19878.439453</td>\n",
       "      <td>19788.939453</td>\n",
       "      <td>19819.779297</td>\n",
       "      <td>19819.779297</td>\n",
       "      <td>172040000</td>\n",
       "    </tr>\n",
       "    <tr>\n",
       "      <th>2016-12-30</th>\n",
       "      <td>19833.169922</td>\n",
       "      <td>19852.550781</td>\n",
       "      <td>19718.669922</td>\n",
       "      <td>19762.599609</td>\n",
       "      <td>19762.599609</td>\n",
       "      <td>271910000</td>\n",
       "    </tr>\n",
       "  </tbody>\n",
       "</table>\n",
       "</div>"
      ],
      "text/plain": [
       "                    Open          High           Low         Close  \\\n",
       "Date                                                                 \n",
       "2016-12-23  19908.609375  19934.150391  19899.060547  19933.810547   \n",
       "2016-12-27  19943.460938  19980.240234  19939.800781  19945.039063   \n",
       "2016-12-28  19964.310547  19981.109375  19827.310547  19833.679688   \n",
       "2016-12-29  19835.460938  19878.439453  19788.939453  19819.779297   \n",
       "2016-12-30  19833.169922  19852.550781  19718.669922  19762.599609   \n",
       "\n",
       "               Adj Close     Volume  \n",
       "Date                                 \n",
       "2016-12-23  19933.810547  158260000  \n",
       "2016-12-27  19945.039063  158540000  \n",
       "2016-12-28  19833.679688  188350000  \n",
       "2016-12-29  19819.779297  172040000  \n",
       "2016-12-30  19762.599609  271910000  "
      ]
     },
     "execution_count": 58,
     "metadata": {},
     "output_type": "execute_result"
    }
   ],
   "source": [
    "data.tail()"
   ]
  },
  {
   "cell_type": "code",
   "execution_count": 59,
   "id": "e90fc00e",
   "metadata": {},
   "outputs": [
    {
     "data": {
      "text/plain": [
       "(7310, 6)"
      ]
     },
     "execution_count": 59,
     "metadata": {},
     "output_type": "execute_result"
    }
   ],
   "source": [
    "data.shape  # shape of the dataset"
   ]
  },
  {
   "cell_type": "code",
   "execution_count": 60,
   "id": "c4130f70",
   "metadata": {},
   "outputs": [
    {
     "name": "stdout",
     "output_type": "stream",
     "text": [
      "<class 'pandas.core.frame.DataFrame'>\n",
      "Index: 7310 entries, 1988-01-04 to 2016-12-30\n",
      "Data columns (total 6 columns):\n",
      " #   Column     Non-Null Count  Dtype  \n",
      "---  ------     --------------  -----  \n",
      " 0   Open       7310 non-null   float64\n",
      " 1   High       7310 non-null   float64\n",
      " 2   Low        7310 non-null   float64\n",
      " 3   Close      7310 non-null   float64\n",
      " 4   Adj Close  7310 non-null   float64\n",
      " 5   Volume     7310 non-null   int64  \n",
      "dtypes: float64(5), int64(1)\n",
      "memory usage: 399.8+ KB\n"
     ]
    }
   ],
   "source": [
    "data.info()  # observing the type of each column and no. of values available for each column"
   ]
  },
  {
   "cell_type": "code",
   "execution_count": 61,
   "id": "afaeb4bd",
   "metadata": {},
   "outputs": [
    {
     "data": {
      "text/html": [
       "<div>\n",
       "<style scoped>\n",
       "    .dataframe tbody tr th:only-of-type {\n",
       "        vertical-align: middle;\n",
       "    }\n",
       "\n",
       "    .dataframe tbody tr th {\n",
       "        vertical-align: top;\n",
       "    }\n",
       "\n",
       "    .dataframe thead th {\n",
       "        text-align: right;\n",
       "    }\n",
       "</style>\n",
       "<table border=\"1\" class=\"dataframe\">\n",
       "  <thead>\n",
       "    <tr style=\"text-align: right;\">\n",
       "      <th></th>\n",
       "      <th>Open</th>\n",
       "      <th>High</th>\n",
       "      <th>Low</th>\n",
       "      <th>Close</th>\n",
       "      <th>Adj Close</th>\n",
       "      <th>Volume</th>\n",
       "    </tr>\n",
       "  </thead>\n",
       "  <tbody>\n",
       "    <tr>\n",
       "      <th>count</th>\n",
       "      <td>7310.000000</td>\n",
       "      <td>7310.000000</td>\n",
       "      <td>7310.000000</td>\n",
       "      <td>7310.000000</td>\n",
       "      <td>7310.000000</td>\n",
       "      <td>7.310000e+03</td>\n",
       "    </tr>\n",
       "    <tr>\n",
       "      <th>mean</th>\n",
       "      <td>9133.807065</td>\n",
       "      <td>9191.949688</td>\n",
       "      <td>9074.398514</td>\n",
       "      <td>9136.705523</td>\n",
       "      <td>9136.705523</td>\n",
       "      <td>1.331860e+08</td>\n",
       "    </tr>\n",
       "    <tr>\n",
       "      <th>std</th>\n",
       "      <td>4609.854291</td>\n",
       "      <td>4630.332716</td>\n",
       "      <td>4588.541131</td>\n",
       "      <td>4610.672687</td>\n",
       "      <td>4610.672687</td>\n",
       "      <td>1.082465e+08</td>\n",
       "    </tr>\n",
       "    <tr>\n",
       "      <th>min</th>\n",
       "      <td>1892.410034</td>\n",
       "      <td>1903.349976</td>\n",
       "      <td>1845.989990</td>\n",
       "      <td>1879.140015</td>\n",
       "      <td>1879.140015</td>\n",
       "      <td>5.170000e+06</td>\n",
       "    </tr>\n",
       "    <tr>\n",
       "      <th>25%</th>\n",
       "      <td>4100.525086</td>\n",
       "      <td>4143.682373</td>\n",
       "      <td>4093.277405</td>\n",
       "      <td>4141.954956</td>\n",
       "      <td>4141.954956</td>\n",
       "      <td>3.084250e+07</td>\n",
       "    </tr>\n",
       "    <tr>\n",
       "      <th>50%</th>\n",
       "      <td>9969.194824</td>\n",
       "      <td>10046.060059</td>\n",
       "      <td>9894.884765</td>\n",
       "      <td>9973.145019</td>\n",
       "      <td>9973.145019</td>\n",
       "      <td>1.055450e+08</td>\n",
       "    </tr>\n",
       "    <tr>\n",
       "      <th>75%</th>\n",
       "      <td>11947.520019</td>\n",
       "      <td>12031.347412</td>\n",
       "      <td>11846.589599</td>\n",
       "      <td>11952.704834</td>\n",
       "      <td>11952.704834</td>\n",
       "      <td>2.141900e+08</td>\n",
       "    </tr>\n",
       "    <tr>\n",
       "      <th>max</th>\n",
       "      <td>19968.970703</td>\n",
       "      <td>19987.630859</td>\n",
       "      <td>19941.960938</td>\n",
       "      <td>19974.619141</td>\n",
       "      <td>19974.619141</td>\n",
       "      <td>7.384400e+08</td>\n",
       "    </tr>\n",
       "  </tbody>\n",
       "</table>\n",
       "</div>"
      ],
      "text/plain": [
       "               Open          High           Low         Close     Adj Close  \\\n",
       "count   7310.000000   7310.000000   7310.000000   7310.000000   7310.000000   \n",
       "mean    9133.807065   9191.949688   9074.398514   9136.705523   9136.705523   \n",
       "std     4609.854291   4630.332716   4588.541131   4610.672687   4610.672687   \n",
       "min     1892.410034   1903.349976   1845.989990   1879.140015   1879.140015   \n",
       "25%     4100.525086   4143.682373   4093.277405   4141.954956   4141.954956   \n",
       "50%     9969.194824  10046.060059   9894.884765   9973.145019   9973.145019   \n",
       "75%    11947.520019  12031.347412  11846.589599  11952.704834  11952.704834   \n",
       "max    19968.970703  19987.630859  19941.960938  19974.619141  19974.619141   \n",
       "\n",
       "             Volume  \n",
       "count  7.310000e+03  \n",
       "mean   1.331860e+08  \n",
       "std    1.082465e+08  \n",
       "min    5.170000e+06  \n",
       "25%    3.084250e+07  \n",
       "50%    1.055450e+08  \n",
       "75%    2.141900e+08  \n",
       "max    7.384400e+08  "
      ]
     },
     "execution_count": 61,
     "metadata": {},
     "output_type": "execute_result"
    }
   ],
   "source": [
    "data.describe()"
   ]
  },
  {
   "cell_type": "code",
   "execution_count": 62,
   "id": "8ece5a28",
   "metadata": {},
   "outputs": [
    {
     "data": {
      "text/html": [
       "<div>\n",
       "<style scoped>\n",
       "    .dataframe tbody tr th:only-of-type {\n",
       "        vertical-align: middle;\n",
       "    }\n",
       "\n",
       "    .dataframe tbody tr th {\n",
       "        vertical-align: top;\n",
       "    }\n",
       "\n",
       "    .dataframe thead th {\n",
       "        text-align: right;\n",
       "    }\n",
       "</style>\n",
       "<table border=\"1\" class=\"dataframe\">\n",
       "  <thead>\n",
       "    <tr style=\"text-align: right;\">\n",
       "      <th></th>\n",
       "      <th>Open</th>\n",
       "      <th>High</th>\n",
       "      <th>Low</th>\n",
       "      <th>Close</th>\n",
       "      <th>Adj Close</th>\n",
       "      <th>Volume</th>\n",
       "    </tr>\n",
       "    <tr>\n",
       "      <th>Date</th>\n",
       "      <th></th>\n",
       "      <th></th>\n",
       "      <th></th>\n",
       "      <th></th>\n",
       "      <th></th>\n",
       "      <th></th>\n",
       "    </tr>\n",
       "  </thead>\n",
       "  <tbody>\n",
       "    <tr>\n",
       "      <th>1988-01-04</th>\n",
       "      <td>False</td>\n",
       "      <td>False</td>\n",
       "      <td>False</td>\n",
       "      <td>False</td>\n",
       "      <td>False</td>\n",
       "      <td>False</td>\n",
       "    </tr>\n",
       "    <tr>\n",
       "      <th>1988-01-05</th>\n",
       "      <td>False</td>\n",
       "      <td>False</td>\n",
       "      <td>False</td>\n",
       "      <td>False</td>\n",
       "      <td>False</td>\n",
       "      <td>False</td>\n",
       "    </tr>\n",
       "    <tr>\n",
       "      <th>1988-01-06</th>\n",
       "      <td>False</td>\n",
       "      <td>False</td>\n",
       "      <td>False</td>\n",
       "      <td>False</td>\n",
       "      <td>False</td>\n",
       "      <td>False</td>\n",
       "    </tr>\n",
       "    <tr>\n",
       "      <th>1988-01-07</th>\n",
       "      <td>False</td>\n",
       "      <td>False</td>\n",
       "      <td>False</td>\n",
       "      <td>False</td>\n",
       "      <td>False</td>\n",
       "      <td>False</td>\n",
       "    </tr>\n",
       "    <tr>\n",
       "      <th>1988-01-08</th>\n",
       "      <td>False</td>\n",
       "      <td>False</td>\n",
       "      <td>False</td>\n",
       "      <td>False</td>\n",
       "      <td>False</td>\n",
       "      <td>False</td>\n",
       "    </tr>\n",
       "    <tr>\n",
       "      <th>...</th>\n",
       "      <td>...</td>\n",
       "      <td>...</td>\n",
       "      <td>...</td>\n",
       "      <td>...</td>\n",
       "      <td>...</td>\n",
       "      <td>...</td>\n",
       "    </tr>\n",
       "    <tr>\n",
       "      <th>2016-12-23</th>\n",
       "      <td>False</td>\n",
       "      <td>False</td>\n",
       "      <td>False</td>\n",
       "      <td>False</td>\n",
       "      <td>False</td>\n",
       "      <td>False</td>\n",
       "    </tr>\n",
       "    <tr>\n",
       "      <th>2016-12-27</th>\n",
       "      <td>False</td>\n",
       "      <td>False</td>\n",
       "      <td>False</td>\n",
       "      <td>False</td>\n",
       "      <td>False</td>\n",
       "      <td>False</td>\n",
       "    </tr>\n",
       "    <tr>\n",
       "      <th>2016-12-28</th>\n",
       "      <td>False</td>\n",
       "      <td>False</td>\n",
       "      <td>False</td>\n",
       "      <td>False</td>\n",
       "      <td>False</td>\n",
       "      <td>False</td>\n",
       "    </tr>\n",
       "    <tr>\n",
       "      <th>2016-12-29</th>\n",
       "      <td>False</td>\n",
       "      <td>False</td>\n",
       "      <td>False</td>\n",
       "      <td>False</td>\n",
       "      <td>False</td>\n",
       "      <td>False</td>\n",
       "    </tr>\n",
       "    <tr>\n",
       "      <th>2016-12-30</th>\n",
       "      <td>False</td>\n",
       "      <td>False</td>\n",
       "      <td>False</td>\n",
       "      <td>False</td>\n",
       "      <td>False</td>\n",
       "      <td>False</td>\n",
       "    </tr>\n",
       "  </tbody>\n",
       "</table>\n",
       "<p>7310 rows × 6 columns</p>\n",
       "</div>"
      ],
      "text/plain": [
       "             Open   High    Low  Close  Adj Close  Volume\n",
       "Date                                                     \n",
       "1988-01-04  False  False  False  False      False   False\n",
       "1988-01-05  False  False  False  False      False   False\n",
       "1988-01-06  False  False  False  False      False   False\n",
       "1988-01-07  False  False  False  False      False   False\n",
       "1988-01-08  False  False  False  False      False   False\n",
       "...           ...    ...    ...    ...        ...     ...\n",
       "2016-12-23  False  False  False  False      False   False\n",
       "2016-12-27  False  False  False  False      False   False\n",
       "2016-12-28  False  False  False  False      False   False\n",
       "2016-12-29  False  False  False  False      False   False\n",
       "2016-12-30  False  False  False  False      False   False\n",
       "\n",
       "[7310 rows x 6 columns]"
      ]
     },
     "execution_count": 62,
     "metadata": {},
     "output_type": "execute_result"
    }
   ],
   "source": [
    "data.isnull()  # checking the null values"
   ]
  },
  {
   "cell_type": "code",
   "execution_count": 63,
   "id": "8e25b20b",
   "metadata": {},
   "outputs": [
    {
     "data": {
      "text/plain": [
       "Open         0\n",
       "High         0\n",
       "Low          0\n",
       "Close        0\n",
       "Adj Close    0\n",
       "Volume       0\n",
       "dtype: int64"
      ]
     },
     "execution_count": 63,
     "metadata": {},
     "output_type": "execute_result"
    }
   ],
   "source": [
    "data.isnull().sum()   # calculating the total no. of null values"
   ]
  },
  {
   "cell_type": "code",
   "execution_count": 64,
   "id": "e3fa3836",
   "metadata": {},
   "outputs": [
    {
     "data": {
      "text/plain": [
       "Date\n",
       "1988-01-04    False\n",
       "1988-01-05    False\n",
       "1988-01-06    False\n",
       "1988-01-07    False\n",
       "1988-01-08    False\n",
       "              ...  \n",
       "2016-12-23    False\n",
       "2016-12-27    False\n",
       "2016-12-28    False\n",
       "2016-12-29    False\n",
       "2016-12-30    False\n",
       "Length: 7310, dtype: bool"
      ]
     },
     "execution_count": 64,
     "metadata": {},
     "output_type": "execute_result"
    }
   ],
   "source": [
    "data.duplicated()  # checking the duplicate values"
   ]
  },
  {
   "cell_type": "code",
   "execution_count": 65,
   "id": "0731c124",
   "metadata": {},
   "outputs": [
    {
     "data": {
      "text/plain": [
       "0"
      ]
     },
     "execution_count": 65,
     "metadata": {},
     "output_type": "execute_result"
    }
   ],
   "source": [
    "data.duplicated().sum()  # calculating the total no. of duplicate values"
   ]
  },
  {
   "cell_type": "markdown",
   "id": "a721e341",
   "metadata": {},
   "source": [
    "## Applying feature engineering and creating the new dataset with new features"
   ]
  },
  {
   "cell_type": "code",
   "execution_count": 66,
   "id": "995b71ba",
   "metadata": {},
   "outputs": [],
   "source": [
    "def generate_features(df):\n",
    "    df_new=pd.DataFrame()\n",
    "    df_new['open']=df['Open']\n",
    "    df_new['open_1']=df['Open'].shift(1)\n",
    "    df_new['close_1']=df['Close'].shift(1)\n",
    "    df_new['high_1']=df['High'].shift(1)\n",
    "    df_new['low_1']=df['Low'].shift(1)\n",
    "    df_new['volume_1']=df['Volume'].shift(1)\n",
    "    # average price\n",
    "    df_new['avg_price_5']= df['Close'].rolling(5).mean().shift(1)\n",
    "    df_new['avg_price_30']= df['Close'].rolling(21).mean().shift(1)\n",
    "    df_new['avg_price_365']= df['Close'].rolling(252).mean().shift(1)\n",
    "    df_new['ratio_avg_price_5_30']= df_new['avg_price_5']/df_new['avg_price_30']\n",
    "    df_new['ratio_avg_price_5_365']= df_new['avg_price_5']/df_new['avg_price_365']\n",
    "    df_new['ratio_avg_price_30_365']= df_new['avg_price_30']/df_new['avg_price_365']\n",
    "    # average volume\n",
    "    df_new['avg_volume_5']= df['Volume'].rolling(5).mean().shift(1)\n",
    "    df_new['avg_volume_30']= df['Volume'].rolling(21).mean().shift(1)\n",
    "    df_new['avg_volume_365']= df['Volume'].rolling(252).mean().shift(1)\n",
    "    df_new['ratio_avg_volume_5_30']= df_new['avg_volume_5']/df_new['avg_volume_30']\n",
    "    df_new['ratio_avg_volume_5_365']= df_new['avg_volume_5']/df_new['avg_volume_365']\n",
    "    df_new['ratio_avg_volume30_365']= df_new['avg_volume_30']/df_new['avg_volume_365']\n",
    "    #standard deviation of prices\n",
    "    df_new['std_price_5']= df['Close'].rolling(5).std().shift(1)\n",
    "    df_new['std_price_30']= df['Close'].rolling(21).std().shift(1)\n",
    "    df_new['std_price_365']= df['Close'].rolling(252).std().shift(1)\n",
    "    df_new['ratio_std_price_5_30']= df_new['std_price_5']/df_new['std_price_30']\n",
    "    df_new['ratio_std_price_5_365']= df_new['std_price_5']/df_new['std_price_365']\n",
    "    df_new['ratio_std_price_30_365']= df_new['std_price_30']/df_new['std_price_365']\n",
    "    # standard deviation of volume\n",
    "    df_new['std_volume_5']= df['Volume'].rolling(5).std().shift(1)\n",
    "    df_new['std_volume_30']= df['Volume'].rolling(21).std().shift(1)\n",
    "    df_new['std_volume_365']= df['Volume'].rolling(252).std().shift(1)\n",
    "    df_new['ratio_std_volume_5_30']= df_new['std_volume_5']/df_new['std_volume_30']\n",
    "    df_new['ratio_std_volume_5_365']= df_new['std_volume_5']/df_new['std_volume_365']\n",
    "    df_new['ratio_std_volume_30_365']= df_new['std_volume_30']/df_new['std_volume_365']\n",
    "    # the target\n",
    "    df_new['close']=df['Close']\n",
    "    df_new=df_new.dropna(axis=0)\n",
    "    return df_new"
   ]
  },
  {
   "cell_type": "code",
   "execution_count": 67,
   "id": "b693ddd0",
   "metadata": {},
   "outputs": [
    {
     "data": {
      "text/html": [
       "<div>\n",
       "<style scoped>\n",
       "    .dataframe tbody tr th:only-of-type {\n",
       "        vertical-align: middle;\n",
       "    }\n",
       "\n",
       "    .dataframe tbody tr th {\n",
       "        vertical-align: top;\n",
       "    }\n",
       "\n",
       "    .dataframe thead th {\n",
       "        text-align: right;\n",
       "    }\n",
       "</style>\n",
       "<table border=\"1\" class=\"dataframe\">\n",
       "  <thead>\n",
       "    <tr style=\"text-align: right;\">\n",
       "      <th></th>\n",
       "      <th>open</th>\n",
       "      <th>open_1</th>\n",
       "      <th>close_1</th>\n",
       "      <th>high_1</th>\n",
       "      <th>low_1</th>\n",
       "      <th>volume_1</th>\n",
       "      <th>avg_price_5</th>\n",
       "      <th>avg_price_30</th>\n",
       "      <th>avg_price_365</th>\n",
       "      <th>ratio_avg_price_5_30</th>\n",
       "      <th>...</th>\n",
       "      <th>ratio_std_price_5_30</th>\n",
       "      <th>ratio_std_price_5_365</th>\n",
       "      <th>ratio_std_price_30_365</th>\n",
       "      <th>std_volume_5</th>\n",
       "      <th>std_volume_30</th>\n",
       "      <th>std_volume_365</th>\n",
       "      <th>ratio_std_volume_5_30</th>\n",
       "      <th>ratio_std_volume_5_365</th>\n",
       "      <th>ratio_std_volume_30_365</th>\n",
       "      <th>close</th>\n",
       "    </tr>\n",
       "    <tr>\n",
       "      <th>Date</th>\n",
       "      <th></th>\n",
       "      <th></th>\n",
       "      <th></th>\n",
       "      <th></th>\n",
       "      <th></th>\n",
       "      <th></th>\n",
       "      <th></th>\n",
       "      <th></th>\n",
       "      <th></th>\n",
       "      <th></th>\n",
       "      <th></th>\n",
       "      <th></th>\n",
       "      <th></th>\n",
       "      <th></th>\n",
       "      <th></th>\n",
       "      <th></th>\n",
       "      <th></th>\n",
       "      <th></th>\n",
       "      <th></th>\n",
       "      <th></th>\n",
       "      <th></th>\n",
       "    </tr>\n",
       "  </thead>\n",
       "  <tbody>\n",
       "    <tr>\n",
       "      <th>1988-12-30</th>\n",
       "      <td>2183.389893</td>\n",
       "      <td>2169.110107</td>\n",
       "      <td>2182.679932</td>\n",
       "      <td>2193.040039</td>\n",
       "      <td>2165.179932</td>\n",
       "      <td>12220000.0</td>\n",
       "      <td>2168.215967</td>\n",
       "      <td>2146.005697</td>\n",
       "      <td>2061.050753</td>\n",
       "      <td>1.010350</td>\n",
       "      <td>...</td>\n",
       "      <td>0.372085</td>\n",
       "      <td>0.123335</td>\n",
       "      <td>0.331471</td>\n",
       "      <td>4.260343e+06</td>\n",
       "      <td>4.572098e+06</td>\n",
       "      <td>6.461774e+06</td>\n",
       "      <td>0.931814</td>\n",
       "      <td>0.659315</td>\n",
       "      <td>0.707561</td>\n",
       "      <td>2168.570068</td>\n",
       "    </tr>\n",
       "    <tr>\n",
       "      <th>1989-01-03</th>\n",
       "      <td>2163.209961</td>\n",
       "      <td>2183.389893</td>\n",
       "      <td>2168.570068</td>\n",
       "      <td>2193.750000</td>\n",
       "      <td>2162.500000</td>\n",
       "      <td>11140000.0</td>\n",
       "      <td>2169.857959</td>\n",
       "      <td>2148.579985</td>\n",
       "      <td>2061.659166</td>\n",
       "      <td>1.009903</td>\n",
       "      <td>...</td>\n",
       "      <td>0.332631</td>\n",
       "      <td>0.106706</td>\n",
       "      <td>0.320794</td>\n",
       "      <td>2.605936e+06</td>\n",
       "      <td>4.627472e+06</td>\n",
       "      <td>6.476618e+06</td>\n",
       "      <td>0.563145</td>\n",
       "      <td>0.402361</td>\n",
       "      <td>0.714489</td>\n",
       "      <td>2144.639893</td>\n",
       "    </tr>\n",
       "    <tr>\n",
       "      <th>1989-01-04</th>\n",
       "      <td>2153.750000</td>\n",
       "      <td>2163.209961</td>\n",
       "      <td>2144.639893</td>\n",
       "      <td>2168.389893</td>\n",
       "      <td>2127.139893</td>\n",
       "      <td>17310000.0</td>\n",
       "      <td>2164.999951</td>\n",
       "      <td>2150.616176</td>\n",
       "      <td>2062.108134</td>\n",
       "      <td>1.006688</td>\n",
       "      <td>...</td>\n",
       "      <td>0.677084</td>\n",
       "      <td>0.191809</td>\n",
       "      <td>0.283287</td>\n",
       "      <td>3.633685e+06</td>\n",
       "      <td>4.665697e+06</td>\n",
       "      <td>6.453401e+06</td>\n",
       "      <td>0.778809</td>\n",
       "      <td>0.563065</td>\n",
       "      <td>0.722983</td>\n",
       "      <td>2177.679932</td>\n",
       "    </tr>\n",
       "    <tr>\n",
       "      <th>1989-01-05</th>\n",
       "      <td>2184.290039</td>\n",
       "      <td>2153.750000</td>\n",
       "      <td>2177.679932</td>\n",
       "      <td>2183.389893</td>\n",
       "      <td>2146.610107</td>\n",
       "      <td>15710000.0</td>\n",
       "      <td>2167.999951</td>\n",
       "      <td>2154.682838</td>\n",
       "      <td>2062.663213</td>\n",
       "      <td>1.006181</td>\n",
       "      <td>...</td>\n",
       "      <td>0.914097</td>\n",
       "      <td>0.204474</td>\n",
       "      <td>0.223690</td>\n",
       "      <td>3.057422e+06</td>\n",
       "      <td>4.671999e+06</td>\n",
       "      <td>6.455623e+06</td>\n",
       "      <td>0.654414</td>\n",
       "      <td>0.473606</td>\n",
       "      <td>0.723710</td>\n",
       "      <td>2190.540039</td>\n",
       "    </tr>\n",
       "    <tr>\n",
       "      <th>1989-01-06</th>\n",
       "      <td>2195.889893</td>\n",
       "      <td>2184.290039</td>\n",
       "      <td>2190.540039</td>\n",
       "      <td>2205.179932</td>\n",
       "      <td>2173.040039</td>\n",
       "      <td>20310000.0</td>\n",
       "      <td>2172.821973</td>\n",
       "      <td>2157.862840</td>\n",
       "      <td>2063.213412</td>\n",
       "      <td>1.006932</td>\n",
       "      <td>...</td>\n",
       "      <td>1.089841</td>\n",
       "      <td>0.245020</td>\n",
       "      <td>0.224822</td>\n",
       "      <td>3.744766e+06</td>\n",
       "      <td>4.825499e+06</td>\n",
       "      <td>6.454034e+06</td>\n",
       "      <td>0.776037</td>\n",
       "      <td>0.580221</td>\n",
       "      <td>0.747672</td>\n",
       "      <td>2194.290039</td>\n",
       "    </tr>\n",
       "  </tbody>\n",
       "</table>\n",
       "<p>5 rows × 31 columns</p>\n",
       "</div>"
      ],
      "text/plain": [
       "                   open       open_1      close_1       high_1        low_1  \\\n",
       "Date                                                                          \n",
       "1988-12-30  2183.389893  2169.110107  2182.679932  2193.040039  2165.179932   \n",
       "1989-01-03  2163.209961  2183.389893  2168.570068  2193.750000  2162.500000   \n",
       "1989-01-04  2153.750000  2163.209961  2144.639893  2168.389893  2127.139893   \n",
       "1989-01-05  2184.290039  2153.750000  2177.679932  2183.389893  2146.610107   \n",
       "1989-01-06  2195.889893  2184.290039  2190.540039  2205.179932  2173.040039   \n",
       "\n",
       "              volume_1  avg_price_5  avg_price_30  avg_price_365  \\\n",
       "Date                                                               \n",
       "1988-12-30  12220000.0  2168.215967   2146.005697    2061.050753   \n",
       "1989-01-03  11140000.0  2169.857959   2148.579985    2061.659166   \n",
       "1989-01-04  17310000.0  2164.999951   2150.616176    2062.108134   \n",
       "1989-01-05  15710000.0  2167.999951   2154.682838    2062.663213   \n",
       "1989-01-06  20310000.0  2172.821973   2157.862840    2063.213412   \n",
       "\n",
       "            ratio_avg_price_5_30  ...  ratio_std_price_5_30  \\\n",
       "Date                              ...                         \n",
       "1988-12-30              1.010350  ...              0.372085   \n",
       "1989-01-03              1.009903  ...              0.332631   \n",
       "1989-01-04              1.006688  ...              0.677084   \n",
       "1989-01-05              1.006181  ...              0.914097   \n",
       "1989-01-06              1.006932  ...              1.089841   \n",
       "\n",
       "            ratio_std_price_5_365  ratio_std_price_30_365  std_volume_5  \\\n",
       "Date                                                                      \n",
       "1988-12-30               0.123335                0.331471  4.260343e+06   \n",
       "1989-01-03               0.106706                0.320794  2.605936e+06   \n",
       "1989-01-04               0.191809                0.283287  3.633685e+06   \n",
       "1989-01-05               0.204474                0.223690  3.057422e+06   \n",
       "1989-01-06               0.245020                0.224822  3.744766e+06   \n",
       "\n",
       "            std_volume_30  std_volume_365  ratio_std_volume_5_30  \\\n",
       "Date                                                               \n",
       "1988-12-30   4.572098e+06    6.461774e+06               0.931814   \n",
       "1989-01-03   4.627472e+06    6.476618e+06               0.563145   \n",
       "1989-01-04   4.665697e+06    6.453401e+06               0.778809   \n",
       "1989-01-05   4.671999e+06    6.455623e+06               0.654414   \n",
       "1989-01-06   4.825499e+06    6.454034e+06               0.776037   \n",
       "\n",
       "            ratio_std_volume_5_365  ratio_std_volume_30_365        close  \n",
       "Date                                                                      \n",
       "1988-12-30                0.659315                 0.707561  2168.570068  \n",
       "1989-01-03                0.402361                 0.714489  2144.639893  \n",
       "1989-01-04                0.563065                 0.722983  2177.679932  \n",
       "1989-01-05                0.473606                 0.723710  2190.540039  \n",
       "1989-01-06                0.580221                 0.747672  2194.290039  \n",
       "\n",
       "[5 rows x 31 columns]"
      ]
     },
     "execution_count": 67,
     "metadata": {},
     "output_type": "execute_result"
    }
   ],
   "source": [
    "data_new = generate_features(data)  \n",
    "data_new.head()"
   ]
  },
  {
   "cell_type": "code",
   "execution_count": 68,
   "id": "73e0f856",
   "metadata": {},
   "outputs": [],
   "source": [
    "start_train=\"1988-01-01\"\n",
    "end_train=\"2015-12-31\"\n",
    "\n",
    "start_test=\"2016-01-01\"\n",
    "end_test=\"2016-12-31\""
   ]
  },
  {
   "cell_type": "markdown",
   "id": "ee6648ba",
   "metadata": {},
   "source": [
    "### Defining the training data"
   ]
  },
  {
   "cell_type": "code",
   "execution_count": 70,
   "id": "838f855c",
   "metadata": {},
   "outputs": [],
   "source": [
    "data_train= data_new[start_train:end_train]\n",
    "\n",
    "X_train= data_train.drop('close',axis=1).values\n",
    "y_train= data_train['close'].values"
   ]
  },
  {
   "cell_type": "code",
   "execution_count": 71,
   "id": "82fb0e28",
   "metadata": {},
   "outputs": [
    {
     "name": "stdout",
     "output_type": "stream",
     "text": [
      "(6806, 30)\n",
      "(6806,)\n"
     ]
    }
   ],
   "source": [
    "print(X_train.shape)\n",
    "print(y_train.shape)"
   ]
  },
  {
   "cell_type": "markdown",
   "id": "714e8bcb",
   "metadata": {},
   "source": [
    "### Defining the test data"
   ]
  },
  {
   "cell_type": "code",
   "execution_count": 73,
   "id": "48c376bc",
   "metadata": {},
   "outputs": [],
   "source": [
    "data_test= data_new[start_test:end_test]\n",
    "\n",
    "X_test= data_test.drop('close',axis=1).values\n",
    "y_test= data_test['close'].values"
   ]
  },
  {
   "cell_type": "code",
   "execution_count": 132,
   "id": "e74aa0f2",
   "metadata": {},
   "outputs": [
    {
     "data": {
      "text/plain": [
       "(252, 30)"
      ]
     },
     "execution_count": 132,
     "metadata": {},
     "output_type": "execute_result"
    }
   ],
   "source": [
    "X_test.shape"
   ]
  },
  {
   "cell_type": "code",
   "execution_count": 133,
   "id": "4500f605",
   "metadata": {},
   "outputs": [
    {
     "data": {
      "text/plain": [
       "(252,)"
      ]
     },
     "execution_count": 133,
     "metadata": {},
     "output_type": "execute_result"
    }
   ],
   "source": [
    "y_test.shape"
   ]
  },
  {
   "cell_type": "markdown",
   "id": "3574b351",
   "metadata": {},
   "source": [
    "# Linear Regression Algorithms "
   ]
  },
  {
   "cell_type": "markdown",
   "id": "a90bcd9b",
   "metadata": {},
   "source": [
    "## Using SGDRegressor "
   ]
  },
  {
   "cell_type": "code",
   "execution_count": 74,
   "id": "f5c13e67",
   "metadata": {},
   "outputs": [
    {
     "name": "stderr",
     "output_type": "stream",
     "text": [
      "/opt/anaconda3/lib/python3.7/site-packages/sklearn/linear_model/_stochastic_gradient.py:1507: ConvergenceWarning: Maximum number of iteration reached before convergence. Consider increasing max_iter to improve the fit.\n",
      "  ConvergenceWarning,\n",
      "/opt/anaconda3/lib/python3.7/site-packages/sklearn/linear_model/_stochastic_gradient.py:1507: ConvergenceWarning: Maximum number of iteration reached before convergence. Consider increasing max_iter to improve the fit.\n",
      "  ConvergenceWarning,\n",
      "/opt/anaconda3/lib/python3.7/site-packages/sklearn/linear_model/_stochastic_gradient.py:1507: ConvergenceWarning: Maximum number of iteration reached before convergence. Consider increasing max_iter to improve the fit.\n",
      "  ConvergenceWarning,\n",
      "/opt/anaconda3/lib/python3.7/site-packages/sklearn/linear_model/_stochastic_gradient.py:1507: ConvergenceWarning: Maximum number of iteration reached before convergence. Consider increasing max_iter to improve the fit.\n",
      "  ConvergenceWarning,\n",
      "/opt/anaconda3/lib/python3.7/site-packages/sklearn/linear_model/_stochastic_gradient.py:1507: ConvergenceWarning: Maximum number of iteration reached before convergence. Consider increasing max_iter to improve the fit.\n",
      "  ConvergenceWarning,\n",
      "/opt/anaconda3/lib/python3.7/site-packages/sklearn/linear_model/_stochastic_gradient.py:1507: ConvergenceWarning: Maximum number of iteration reached before convergence. Consider increasing max_iter to improve the fit.\n",
      "  ConvergenceWarning,\n"
     ]
    },
    {
     "name": "stdout",
     "output_type": "stream",
     "text": [
      "{'alpha': 1e-05, 'eta0': 0.1}\n"
     ]
    }
   ],
   "source": [
    "scaler=StandardScaler()\n",
    "\n",
    "X_scaled_train= scaler.fit_transform(X_train)\n",
    "X_scaled_test= scaler.transform(X_test)\n",
    "\n",
    "#defining the hyperparameters for the model\n",
    "param_grid={\n",
    "    \"alpha\":[1e-5, 3e-5,1e-4],    #alpha parameter is for regularization\n",
    "    \"eta0\":[0.01,0.03,0.1]        #eta parameter is learning rate\n",
    "}\n",
    "\n",
    "from sklearn.linear_model import SGDRegressor\n",
    "lr=SGDRegressor(penalty=\"l2\", max_iter=100)\n",
    "grid_search= GridSearchCV(lr, param_grid, cv=5, scoring=\"r2\") #gridsearchcv is used for identifying the best parameter\n",
    "grid_search.fit(X_scaled_train,y_train)\n",
    "\n",
    "print(grid_search.best_params_)"
   ]
  },
  {
   "cell_type": "code",
   "execution_count": 75,
   "id": "7af3e511",
   "metadata": {},
   "outputs": [],
   "source": [
    "lr_best= grid_search.best_estimator_   #taking the best parameter with the help of gridsearchcv\n",
    "\n",
    "predictions_lr=lr_best.predict(X_scaled_test)    #predicting the results for test set"
   ]
  },
  {
   "cell_type": "markdown",
   "id": "694b680d",
   "metadata": {},
   "source": [
    "### MSE and MAE errors in the model"
   ]
  },
  {
   "cell_type": "code",
   "execution_count": 81,
   "id": "50e6e648",
   "metadata": {},
   "outputs": [
    {
     "name": "stdout",
     "output_type": "stream",
     "text": [
      "Mean Squared Error: 20969.691\n",
      "Mean Absolute Error: 104.995\n"
     ]
    }
   ],
   "source": [
    "print('Mean Squared Error: {0:.3f}'.format(mean_squared_error(y_test, predictions_lr)))\n",
    "print('Mean Absolute Error: {0:.3f}'.format(mean_absolute_error(y_test, predictions_lr)))"
   ]
  },
  {
   "cell_type": "markdown",
   "id": "94add23d",
   "metadata": {},
   "source": [
    "### Accuracy of SGDRegressor"
   ]
  },
  {
   "cell_type": "code",
   "execution_count": 80,
   "id": "58c76e5f",
   "metadata": {},
   "outputs": [
    {
     "name": "stdout",
     "output_type": "stream",
     "text": [
      "Accuracy of the model: 0.976\n"
     ]
    }
   ],
   "source": [
    "print('Accuracy of the model: {0:.3f}'.format(r2_score(y_test, predictions_lr)))  "
   ]
  },
  {
   "cell_type": "markdown",
   "id": "5ee8dd3b",
   "metadata": {},
   "source": [
    "# Random Forest Algorithm"
   ]
  },
  {
   "cell_type": "code",
   "execution_count": 86,
   "id": "921b0d3e",
   "metadata": {},
   "outputs": [],
   "source": [
    "param_grid={\n",
    "    'max_depth':[5,10,15,20,30],\n",
    "    'min_samples_split':[5,15,20],\n",
    "    'max_features':['auto','sqrt'],\n",
    "    'min_samples_leaf':[2,3]\n",
    "}"
   ]
  },
  {
   "cell_type": "code",
   "execution_count": 90,
   "id": "088f3b29",
   "metadata": {},
   "outputs": [
    {
     "name": "stdout",
     "output_type": "stream",
     "text": [
      "{'max_depth': 30, 'max_features': 'auto', 'min_samples_leaf': 3, 'min_samples_split': 5}\n"
     ]
    }
   ],
   "source": [
    "from sklearn.ensemble import RandomForestRegressor\n",
    "\n",
    "rf=RandomForestRegressor(n_estimators=100, n_jobs=-1)\n",
    "grid_search= GridSearchCV(rf, param_grid, cv=5, scoring=\"r2\", n_jobs=-1)\n",
    "grid_search.fit(X_train, y_train)\n",
    "\n",
    "print(grid_search.best_params_)\n",
    "\n",
    "rf_best= grid_search.best_estimator_\n",
    "\n",
    "predictions_rf= rf_best.predict(X_test)"
   ]
  },
  {
   "cell_type": "markdown",
   "id": "04c4092a",
   "metadata": {},
   "source": [
    "### MSE and MAE errors in the model"
   ]
  },
  {
   "cell_type": "code",
   "execution_count": 89,
   "id": "0ff4b8ac",
   "metadata": {},
   "outputs": [
    {
     "name": "stdout",
     "output_type": "stream",
     "text": [
      "Mean Squared Error: 20969.691\n",
      "Mean Absolute Error: 104.995\n"
     ]
    }
   ],
   "source": [
    "print('Mean Squared Error: {0:.3f}'.format(mean_squared_error(y_test, predictions_lr)))\n",
    "print('Mean Absolute Error: {0:.3f}'.format(mean_absolute_error(y_test, predictions_lr)))"
   ]
  },
  {
   "cell_type": "markdown",
   "id": "601a4efb",
   "metadata": {},
   "source": [
    "### Accuracy of the random forest model"
   ]
  },
  {
   "cell_type": "code",
   "execution_count": 88,
   "id": "928e669d",
   "metadata": {},
   "outputs": [
    {
     "name": "stdout",
     "output_type": "stream",
     "text": [
      "Accuracy of the model: 0.976\n"
     ]
    }
   ],
   "source": [
    "print('Accuracy of the model: {0:.3f}'.format(r2_score(y_test, predictions_lr)))"
   ]
  },
  {
   "cell_type": "markdown",
   "id": "dee336b9",
   "metadata": {},
   "source": [
    "# SVM Regressor"
   ]
  },
  {
   "cell_type": "code",
   "execution_count": 121,
   "id": "98ddc775",
   "metadata": {},
   "outputs": [
    {
     "data": {
      "text/plain": [
       "Pipeline(steps=[('standardscaler', StandardScaler()),\n",
       "                ('svr', SVR(epsilon=0.2))])"
      ]
     },
     "execution_count": 121,
     "metadata": {},
     "output_type": "execute_result"
    }
   ],
   "source": [
    "from sklearn.svm import SVR\n",
    "from sklearn.pipeline import make_pipeline\n",
    "from sklearn.preprocessing import StandardScaler\n",
    "svm_regr = make_pipeline(StandardScaler(), SVR(C=1.0, epsilon=0.2))\n",
    "#svm_regr = SVR(C=1.0, epsilon=0.2)\n",
    "svm_regr.fit(X_train, y_train)"
   ]
  },
  {
   "cell_type": "code",
   "execution_count": 128,
   "id": "00aec92a",
   "metadata": {},
   "outputs": [],
   "source": [
    "pred = svm_regr.predict(X_test)"
   ]
  },
  {
   "cell_type": "code",
   "execution_count": 116,
   "id": "0fc40b5e",
   "metadata": {},
   "outputs": [
    {
     "data": {
      "text/plain": [
       "-111.39930063379612"
      ]
     },
     "execution_count": 116,
     "metadata": {},
     "output_type": "execute_result"
    }
   ],
   "source": [
    "#svm_regr.score(X_scaled_test, y_test)"
   ]
  },
  {
   "cell_type": "code",
   "execution_count": 129,
   "id": "2f26518c",
   "metadata": {},
   "outputs": [
    {
     "name": "stdout",
     "output_type": "stream",
     "text": [
      "Mean Squared Error: 62622139.371\n",
      "Mean Absolute Error: 7846.688\n"
     ]
    }
   ],
   "source": [
    "print('Mean Squared Error: {0:.3f}'.format(mean_squared_error(y_test, pred)))\n",
    "print('Mean Absolute Error: {0:.3f}'.format(mean_absolute_error(y_test, pred)))"
   ]
  },
  {
   "cell_type": "markdown",
   "id": "75e95f5b",
   "metadata": {},
   "source": [
    "### The accuracy score is negative which means that SVR model is not at all good for the prediction of our dataset"
   ]
  },
  {
   "cell_type": "markdown",
   "id": "44e7ed8f",
   "metadata": {},
   "source": [
    "### Therefore we will go with the SGDRegressor and Random Forest model for our stock price prediction"
   ]
  },
  {
   "cell_type": "code",
   "execution_count": 130,
   "id": "339b9cea",
   "metadata": {},
   "outputs": [
    {
     "name": "stdout",
     "output_type": "stream",
     "text": [
      "Accuracy of the model: -69.739\n"
     ]
    }
   ],
   "source": [
    "print('Accuracy of the model: {0:.3f}'.format(r2_score(y_test, pred)))"
   ]
  },
  {
   "cell_type": "code",
   "execution_count": null,
   "id": "8cc6b1f7",
   "metadata": {},
   "outputs": [],
   "source": []
  }
 ],
 "metadata": {
  "kernelspec": {
   "display_name": "Python 3 (ipykernel)",
   "language": "python",
   "name": "python3"
  },
  "language_info": {
   "codemirror_mode": {
    "name": "ipython",
    "version": 3
   },
   "file_extension": ".py",
   "mimetype": "text/x-python",
   "name": "python",
   "nbconvert_exporter": "python",
   "pygments_lexer": "ipython3",
   "version": "3.7.10"
  }
 },
 "nbformat": 4,
 "nbformat_minor": 5
}
